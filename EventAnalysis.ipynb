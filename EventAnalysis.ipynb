{
 "cells": [
  {
   "cell_type": "markdown",
   "metadata": {},
   "source": [
    "## Import necessary packages"
   ]
  },
  {
   "cell_type": "code",
   "execution_count": 1,
   "metadata": {},
   "outputs": [],
   "source": [
    "import numpy as np"
   ]
  },
  {
   "cell_type": "markdown",
   "metadata": {},
   "source": [
    "Import event records from numpy files"
   ]
  },
  {
   "cell_type": "code",
   "execution_count": 2,
   "metadata": {},
   "outputs": [],
   "source": [
    "evRecord = np.load('fasernu_eventRecord.npy')\n",
    "evEnergy = np.load('fasernu_eventEnergy.npy')\n",
    "[eNum, sNum] = np.shape(evRecord)"
   ]
  },
  {
   "cell_type": "markdown",
   "metadata": {},
   "source": [
    "`findMatches` checks the evRecord for events with the history matches the `mask` argument. For partial histories, specify the entries for the partial history with the `entries` argument."
   ]
  },
  {
   "cell_type": "code",
   "execution_count": 69,
   "metadata": {},
   "outputs": [],
   "source": [
    "def findMatches(mask,entries=range(sNum)):\n",
    "    evMatches = []\n",
    "    for ev in range(eNum):\n",
    "        if all(evRecord[ev,entries] == mask):\n",
    "            evMatches.append(ev)\n",
    "\n",
    "    return evMatches"
   ]
  },
  {
   "cell_type": "markdown",
   "metadata": {},
   "source": [
    "Check for histories which mimic our signal. This would be a primary which fails to light up the first pair of scintillators and then continues to light up the rest of the scintillators."
   ]
  },
  {
   "cell_type": "code",
   "execution_count": 89,
   "metadata": {},
   "outputs": [
    {
     "name": "stdout",
     "output_type": "stream",
     "text": [
      "The events which fake our signal are:  []\n"
     ]
    }
   ],
   "source": [
    "signal = [0, 0, 1, 1, 1, 1, 1, 1, 1]\n",
    "fakes = findMatches(signal)\n",
    "print('The events which fake our signal are: ', fakes)"
   ]
  },
  {
   "cell_type": "code",
   "execution_count": 93,
   "metadata": {},
   "outputs": [
    {
     "name": "stdout",
     "output_type": "stream",
     "text": [
      "There are  21  events which fake the signal.\n",
      "The events which fake our signal are:  [9546, 11225, 12017, 16125, 21098, 23929, 25863, 37144, 42718, 43434, 47073, 129255, 130059, 139637, 161535, 165050, 166466, 185263, 188617, 192627, 193880]\n"
     ]
    }
   ],
   "source": [
    "signal = [0, 0, 0, 0, 1, 1, 1, 1, 1]\n",
    "fakes = findMatches(signal)\n",
    "print('There are ', np.size(fakes), ' events which fake the signal.')\n",
    "print('The events which fake our signal are: ', fakes)"
   ]
  },
  {
   "cell_type": "code",
   "execution_count": 83,
   "metadata": {},
   "outputs": [
    {
     "data": {
      "text/plain": [
       "84179"
      ]
     },
     "execution_count": 83,
     "metadata": {},
     "output_type": "execute_result"
    }
   ],
   "source": [
    "np.size(findMatches([1, 1, 1], [0,1,6]))"
   ]
  },
  {
   "cell_type": "code",
   "execution_count": 91,
   "metadata": {},
   "outputs": [
    {
     "data": {
      "text/plain": [
       "[113278, 147986]"
      ]
     },
     "execution_count": 91,
     "metadata": {},
     "output_type": "execute_result"
    }
   ],
   "source": [
    "findMatches([0,1],[0,1])"
   ]
  },
  {
   "cell_type": "code",
   "execution_count": 85,
   "metadata": {},
   "outputs": [
    {
     "data": {
      "text/plain": [
       "array([[1., 1., 0., 0., 0., 0., 0., 0., 0.],\n",
       "       [1., 1., 1., 1., 1., 1., 0., 0., 0.],\n",
       "       [1., 1., 1., 1., 1., 1., 0., 0., 0.],\n",
       "       [1., 1., 1., 1., 0., 0., 0., 0., 0.],\n",
       "       [1., 1., 0., 0., 0., 0., 0., 0., 0.]])"
      ]
     },
     "execution_count": 85,
     "metadata": {},
     "output_type": "execute_result"
    }
   ],
   "source": [
    "evRecord[findMatches([1,1,0],[0,1,6])[:10],:]"
   ]
  },
  {
   "cell_type": "code",
   "execution_count": 86,
   "metadata": {},
   "outputs": [
    {
     "data": {
      "text/plain": [
       "[]"
      ]
     },
     "execution_count": 86,
     "metadata": {},
     "output_type": "execute_result"
    }
   ],
   "source": [
    "findMatches([0,0,1,1,1,1,1,1,1])"
   ]
  },
  {
   "cell_type": "code",
   "execution_count": null,
   "metadata": {},
   "outputs": [],
   "source": []
  }
 ],
 "metadata": {
  "kernelspec": {
   "display_name": "Python 3",
   "language": "python",
   "name": "python3"
  },
  "language_info": {
   "codemirror_mode": {
    "name": "ipython",
    "version": 3
   },
   "file_extension": ".py",
   "mimetype": "text/x-python",
   "name": "python",
   "nbconvert_exporter": "python",
   "pygments_lexer": "ipython3",
   "version": "3.9.1"
  }
 },
 "nbformat": 4,
 "nbformat_minor": 4
}
