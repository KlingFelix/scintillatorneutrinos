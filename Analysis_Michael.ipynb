{
 "cells": [
  {
   "cell_type": "markdown",
   "id": "04b3b0a1",
   "metadata": {},
   "source": [
    "## Sample Analysis for Tracker Observables\n",
    "\n",
    "Begin by importing the allmighty `numpy` and `pyplot`"
   ]
  },
  {
   "cell_type": "code",
   "execution_count": 1,
   "id": "3c06588d",
   "metadata": {},
   "outputs": [],
   "source": [
    "import numpy as np\n",
    "import matplotlib\n",
    "from matplotlib import pyplot as plt\n",
    "import matplotlib.image as img\n",
    "import random \n",
    "\n",
    "from os import listdir\n",
    "import re"
   ]
  },
  {
   "cell_type": "markdown",
   "id": "5cec55ee",
   "metadata": {},
   "source": [
    "# Weight Events\n",
    "\n",
    "Small bit of code which weights the simulated muon neutrinos according to the expected number of events at FaserNu"
   ]
  },
  {
   "cell_type": "code",
   "execution_count": 2,
   "id": "597df5a6",
   "metadata": {},
   "outputs": [],
   "source": [
    "def weight_muon_neutrinos(data):\n",
    "    \n",
    "    # Import data for the number of expected muon neutrino interactions during run 3\n",
    "    expectedData1 = np.loadtxt('FluenceFiles/FASER_-14.txt')\n",
    "    expectedData2 = np.loadtxt('FluenceFiles/FASER_14.txt')\n",
    "    \n",
    "    expEnergy = expectedData1[:,0]\n",
    "    expTotal  = (expectedData1[:,1] + expectedData2[:,1]) / 150 # To normalize to 1 fb^-1\n",
    "    \n",
    "    # Setup variables for weighting neutrino events.\n",
    "    volFlu  = 25 * 25 * 100  # Volume of tungsten target used for FASER_-14.txt file\n",
    "    rhoTung = 19.3           # Density of tungsten\n",
    "    volTung = 25 * 30 * 106  # Volume of tungsten target used in FLUKA simulation\n",
    "    rhoLead = 11.35          # Density of lead\n",
    "    volLead = 30 * 40 * 10   # Volume of lead shielding used in FLUKA simulation\n",
    "    \n",
    "    # Weight by the masses of the targets\n",
    "    tungWeight = (volTung/volFlu)\n",
    "    leadWeight = volLead/volFlu * rhoLead/rhoTung\n",
    "    \n",
    "    # Weight per primary\n",
    "    numSimTung = 13 * 1000\n",
    "    numSimLead = 5 * 1000\n",
    "    \n",
    "    # Simulation energies are close to those in FASER_-14.txt\n",
    "    # Use a small buffer to ensure there is a match\n",
    "    eps  = 0.01 # Within 10 MeV\n",
    "    for event in data:\n",
    "        if event.get('weight') is None:\n",
    "            energy = event['primaryEnergy']\n",
    "            zpos   = event['zposition']\n",
    "\n",
    "            mask = (expEnergy < (energy + eps)) & (expEnergy > (energy - eps))\n",
    "            numExp = expTotal[mask]\n",
    "            if zpos < 120: # If interacted in tungsten\n",
    "                weight = tungWeight * numExp / numSimTung\n",
    "            else:\n",
    "                weight = leadWeight * numExp / numSimLead\n",
    "\n",
    "            event['weight'] = weight[0] # Method with the mask returns a numpy array with one-element\n",
    "\n",
    "\n",
    "def weight_muons(files):\n",
    "    \n",
    "    data = np.array([])\n",
    "    \n",
    "    # Load fluence files for muons and anti-muons and combine them\n",
    "    expectedData1 = np.loadtxt('FluenceFiles/negative_muon_flux.csv')\n",
    "    expectedData2 = np.loadtxt('FluenceFiles/positive_muon_flux.csv')\n",
    "    \n",
    "    expEnergy = expectedData1[:,0]\n",
    "    expFlu    = expectedData1[:,1] + expectedData2[:,1]\n",
    "    \n",
    "    # expFlu has units of GeV^-1 cm^-2 s^-1\n",
    "    # Multiply by primary energy to change to cm^-2 s^-1\n",
    "    expFlu = expFlu * expEnergy\n",
    "    \n",
    "    LHCflu = 2 * (10 ** -5) # fb^-1 s^-1 from LHC\n",
    "    expFlu = expFlu / LHCflu # fb (at the LHC) * cm^-2 (per unit area at FASER)\n",
    "    \n",
    "    A_lr = 6.5 * 35 # left/right simulation area in cm^2\n",
    "    A_tb = 43  * 4 # top/bot simulation area in cm^2\n",
    "    \n",
    "    expTot_lr = expFlu * A_lr # for 1 fb^-1 at the LHC\n",
    "    expTot_tb = expFlu * A_tb # for 1 fb^-1 at the LHC\n",
    "    \n",
    "    simTotals = countSimTotal(files)\n",
    "    \n",
    "    # Controls accepted range for matching primary energy - Anything below ~200 GeV should be identical\n",
    "    eps  = 0.01 # Within 10 MeV\n",
    "    \n",
    "    for file in files:\n",
    "        tmp = np.load('NumpyArrays/' + file, allow_pickle=True)\n",
    "        side = re.match(r'^.*_(.*)[0-9][0-9][0-9].npy',file)[1]\n",
    "        \n",
    "        if (side == 'left') or (side == 'right'):\n",
    "            expTot = expTot_lr\n",
    "        elif (side == 'top') or (side == 'bot'):\n",
    "            expTot = expTot_tb\n",
    "        \n",
    "        # Add the appropriate weight to each event\n",
    "        for event in tmp:\n",
    "            energy = event['primaryEnergy']\n",
    "            simTot = simTotals[side][energy]\n",
    "            \n",
    "            # Find which energy this primary falls into\n",
    "            mask = (expEnergy < (energy + eps)) & (expEnergy > (energy - eps))\n",
    "            # Number of expected muons at this energy\n",
    "            numExp = expTot[mask]\n",
    "            # weight = number expected / number simulated\n",
    "            event['weight'] = numExp[0] / simTot # Weight for 1 fb^-1 run at the LHC\n",
    "        \n",
    "        data = np.append(data,tmp)\n",
    "    \n",
    "    return data\n",
    "\n",
    "def countSimTotal(files):\n",
    "    \n",
    "    num_lr = 21527\n",
    "    num_tb = 21527\n",
    "    \n",
    "    simTot = {}\n",
    "    for side in ['left', 'right', 'top', 'bot']:\n",
    "        sideFiles = [file for file in files if re.search(f'.*{side}.*',file)]\n",
    "\n",
    "        sideTot = {}\n",
    "        for file in sideFiles:\n",
    "            data = np.load('NumpyArrays/' + file, allow_pickle=True)\n",
    "            energy = data[0]['primaryEnergy']\n",
    "\n",
    "            if not(energy in sideTot.keys()):\n",
    "                sideTot[energy] = 0\n",
    "            sideTot[energy] += num_lr\n",
    "        simTot[side] = sideTot\n",
    "    return simTot\n"
   ]
  },
  {
   "cell_type": "code",
   "execution_count": 24,
   "id": "2acb93a5",
   "metadata": {},
   "outputs": [
    {
     "name": "stdout",
     "output_type": "stream",
     "text": [
      "Estimate of total muons incident on FASERnu for 5 fb^-1: 199000000\n",
      "Estimate of total simulated muons: 17760000\n"
     ]
    }
   ],
   "source": [
    "# Load fluence files for muons and anti-muons and combine them\n",
    "expectedData1 = np.loadtxt('FluenceFiles/negative_muon_flux.csv')\n",
    "expectedData2 = np.loadtxt('FluenceFiles/positive_muon_flux.csv')\n",
    "\n",
    "expEnergy = expectedData1[:,0]\n",
    "expFlu    = expectedData1[:,1] + expectedData2[:,1]\n",
    "\n",
    "# expFlu has units of GeV^-1 cm^-2 s^-1\n",
    "# Multiply by primary energy to change to cm^-2 s^-1\n",
    "expFlu = expFlu * expEnergy\n",
    "\n",
    "LHCflu = 2 * (10 ** -5) # fb^-1 s^-1 from LHC\n",
    "expFlu = expFlu / LHCflu # fb (at the LHC) * cm^-2 (per unit area at FASER)\n",
    "\n",
    "A_lr = 6.5 * 35 # left/right simulation area in cm^2\n",
    "A_tb = 43  * 4 # top/bot simulation area in cm^2\n",
    "\n",
    "expTot_lr = expFlu * A_lr # for 1 fb^-1 at the LHC\n",
    "expTot_tb = expFlu * A_tb # for 1 fb^-1 at the LHC\n",
    "\n",
    "print('Estimate of total muons incident on FASERnu for 5 fb^-1:', int(np.round(np.sum(expTot_lr + expTot_tb)*2 * 5,-6)))\n",
    "print('Estimate of total simulated muons:',18 * 800000 + 6 * 560000)"
   ]
  },
  {
   "cell_type": "markdown",
   "id": "1faa2854",
   "metadata": {},
   "source": [
    "The following block of code runs the weighting function on the muon neutrino data and muon data in the `NumpyArrays` directory."
   ]
  },
  {
   "cell_type": "code",
   "execution_count": 3,
   "id": "0dda8995",
   "metadata": {},
   "outputs": [],
   "source": [
    "# Run the weighting function on each data file and save the result\n",
    "ls = listdir('NumpyArrays/')\n",
    "\n",
    "files = [file for file in ls if re.search(r'muon_neutrinos',file)]\n",
    "muon_neutrino_data = np.array([])\n",
    "for file in files:\n",
    "    tmp = np.load('NumpyArrays/' + file, allow_pickle=True)\n",
    "    weight_muon_neutrinos(tmp)\n",
    "    np.save('NumpyArrays/' + file, tmp)\n",
    "    \n",
    "    muon_neutrino_data = np.append(muon_neutrino_data, tmp)\n",
    "\n",
    "files = [file for file in ls if re.search(r'muons',file)]\n",
    "muon_data = weight_muons(files)"
   ]
  },
  {
   "cell_type": "code",
   "execution_count": 4,
   "id": "dce8a0ff",
   "metadata": {},
   "outputs": [
    {
     "data": {
      "text/plain": [
       "[{'energy': 100.0, 'weight': 49.678},\n",
       " {'energy': 100.0, 'weight': 65.708},\n",
       " {'energy': 300.0, 'weight': 41.408},\n",
       " {'energy': 300.0, 'weight': 31.306},\n",
       " {'energy': 500.0, 'weight': 14.01},\n",
       " {'energy': 500.0, 'weight': 18.53},\n",
       " {'energy': 700.0, 'weight': 7.116},\n",
       " {'energy': 700.0, 'weight': 9.412},\n",
       " {'energy': 900.0, 'weight': 8.042},\n",
       " {'energy': 900.0, 'weight': 10.638},\n",
       " {'energy': 1100.0, 'weight': 10.727},\n",
       " {'energy': 1100.0, 'weight': 8.11},\n",
       " {'energy': 1300.0, 'weight': 10.113},\n",
       " {'energy': 1300.0, 'weight': 13.377},\n",
       " {'energy': 1500.0, 'weight': 8.493},\n",
       " {'energy': 1500.0, 'weight': 11.233},\n",
       " {'energy': 1700.0, 'weight': 7.704},\n",
       " {'energy': 1700.0, 'weight': 5.824},\n",
       " {'energy': 1900.0, 'weight': 5.301},\n",
       " {'energy': 1900.0, 'weight': 4.008},\n",
       " {'energy': 2100.0, 'weight': 3.356},\n",
       " {'energy': 2100.0, 'weight': 4.439},\n",
       " {'energy': 2300.0, 'weight': 5.055},\n",
       " {'energy': 2300.0, 'weight': 6.686},\n",
       " {'energy': 2500.0, 'weight': 5.308},\n",
       " {'energy': 2500.0, 'weight': 7.021},\n",
       " {'energy': 2700.0, 'weight': 3.606},\n",
       " {'energy': 2700.0, 'weight': 4.77},\n",
       " {'energy': 2900.0, 'weight': 4.047},\n",
       " {'energy': 2900.0, 'weight': 3.059},\n",
       " {'energy': 3100.0, 'weight': 2.614},\n",
       " {'energy': 3100.0, 'weight': 1.976},\n",
       " {'energy': 3300.0, 'weight': 0.98},\n",
       " {'energy': 3300.0, 'weight': 1.296},\n",
       " {'energy': 3500.0, 'weight': 0.792},\n",
       " {'energy': 3500.0, 'weight': 1.047}]"
      ]
     },
     "execution_count": 4,
     "metadata": {},
     "output_type": "execute_result"
    }
   ],
   "source": [
    "objects = []\n",
    "for event in muon_data:\n",
    "    tmp = {'energy': np.round(event['primaryEnergy'],-2),\n",
    "           'weight': np.round(event['weight']*5,3)}\n",
    "    if not(tmp in objects):\n",
    "        objects.append(tmp)  \n",
    "sorted(objects, key=lambda d: d['energy']) "
   ]
  },
  {
   "cell_type": "code",
   "execution_count": null,
   "id": "5bf315d3",
   "metadata": {},
   "outputs": [],
   "source": [
    "np."
   ]
  },
  {
   "cell_type": "markdown",
   "id": "dc9ccd34",
   "metadata": {},
   "source": [
    "### Display event"
   ]
  },
  {
   "cell_type": "markdown",
   "id": "81b2c9f3",
   "metadata": {},
   "source": [
    "Here is some quick event display function I wrote based on Michael's code"
   ]
  },
  {
   "cell_type": "code",
   "execution_count": 5,
   "id": "ed79038f",
   "metadata": {},
   "outputs": [],
   "source": [
    "def display_event(data, ievent=0):\n",
    "    \n",
    "    #load event\n",
    "    event = data[ievent]\n",
    "    if event['scintillator'][0]> 0: return 0\n",
    "    if event['scintillator'][2]==0: return 0 \n",
    "    \n",
    "    # initialize\n",
    "    multiplier=2\n",
    "    matplotlib.rcParams.update({'font.size': 15*multiplier})\n",
    "    matplotlib.rcParams['axes.linewidth'] = multiplier\n",
    "    fig = plt.figure(figsize=(16*multiplier,7*multiplier))\n",
    "    \n",
    "    # Setup some nice axes \n",
    "    x0, x1 = 0.01, 0.94\n",
    "    width = (x1-x0)/4\n",
    "    h_tr, h_pic, h_sc = 0.55, 0.35, 0.08\n",
    "    ax0 = fig.add_axes([x0          , 0.02+h_tr      , (x1-x0)   , h_pic])    \n",
    "    ax1 = fig.add_axes([x0 + 0*width, 0.02           , width     , h_tr ])\n",
    "    ax2 = fig.add_axes([x0 + 1*width, 0.02           , width     , h_tr ])\n",
    "    ax3 = fig.add_axes([x0 + 2*width, 0.02           , width     , h_tr ])\n",
    "    ax4 = fig.add_axes([x0 + 3*width, 0.02           , 1.25*width, h_tr ])\n",
    "    ax5 = fig.add_axes([x0          , 0.02+h_tr+h_pic, 0.8       , 0.05  ])\n",
    "    ax6 = fig.add_axes([x0+0.8      , 0.02+h_tr+h_pic, x1-x0-0.8 , 0.05  ])\n",
    "    \n",
    "    #plot image of detector\n",
    "    image = img.imread('Fig_Layout.jpg')\n",
    "    ax0.imshow(image)\n",
    "    ax0.set_xticks([])\n",
    "    ax0.set_yticks([])\n",
    "    ax0.spines.clear()\n",
    "    \n",
    "    # Plot the tracker images\n",
    "    bins = (np.linspace(-12.5, 12.5, 26),np.linspace(-12.5, 12.5, 26))\n",
    "    for ax, layer in zip([ax1,ax2,ax3,ax4],['hits1','hits2','hits3','hits4']):\n",
    "        image = np.array(event[layer])\n",
    "        if len(image)==0: image = np.array([[0,0,0]])\n",
    "        hist = ax.hist2d(image.T[0], image.T[1], weights=image.T[2], bins=bins, \n",
    "                  norm=matplotlib.colors.LogNorm(vmin=1,vmax=100),cmap='cool')\n",
    "        ax.set_xticks([])\n",
    "        ax.set_yticks([])\n",
    "    fig.colorbar(hist[3], ax=ax4)\n",
    "    \n",
    "    # Plot scintillators\n",
    "    ax5.hist2d(np.linspace(0.5,8.5,9), np.zeros(9) , weights=event['scintillator'][:-1], bins=(np.linspace(0,9,10),[-1,1]), \n",
    "                  norm=matplotlib.colors.LogNorm(vmin=0.1,vmax=1),cmap='rainbow')\n",
    "    for x in np.linspace(0,8,9): \n",
    "        ax5.plot([x,x],[-1,1],lw=multiplier,c=\"k\")\n",
    "        ax5.text(x+0.06,-0.75,str(int(x+1)))\n",
    "    ax5.set_xticks([])\n",
    "    ax5.set_yticks([])\n",
    "    \n",
    "    # Plot calorimeter\n",
    "    ax6.text(0.5,0.5,\"E=\"+str(event['calorimeter'])+\" GeV\",ha=\"center\", va=\"center\")\n",
    "    ax6.fill([0,1,1,0], [0,0,1,1], c=\"lightgreen\")\n",
    "    ax6.set_xlim(0,1)\n",
    "    ax6.set_ylim(0,1)\n",
    "    ax6.set_xticks([])\n",
    "    ax6.set_yticks([])\n",
    "\n",
    "    # Return figure so user can manipulate or save the plots\n",
    "#     plt.savefig(\"EventDisplays/Event_\"+str(ievent)+\".pdf\")\n",
    "#     plt.show()\n",
    "    \n",
    "    return 1\n"
   ]
  },
  {
   "cell_type": "code",
   "execution_count": 6,
   "id": "0731291d",
   "metadata": {},
   "outputs": [],
   "source": [
    "# numevents = 0 \n",
    "# while numevents < 1:\n",
    "#     ievent = random.randrange(len(muon_neutrino_data))\n",
    "#     numevents+=display_event(muon_neutrino_data, ievent=ievent)"
   ]
  },
  {
   "cell_type": "code",
   "execution_count": 7,
   "id": "c12cd9d0",
   "metadata": {},
   "outputs": [],
   "source": [
    "# # Doing the same thing for muon data\n",
    "# numevents = 0 \n",
    "# while numevents < 1:\n",
    "#     ievent = random.randrange(len(muon_data))\n",
    "#     numevents+=display_event(muon_data, ievent=ievent)"
   ]
  },
  {
   "cell_type": "markdown",
   "id": "5cb8fc1a",
   "metadata": {},
   "source": [
    "# Scintillators and Calorimeter Energy"
   ]
  },
  {
   "cell_type": "code",
   "execution_count": 8,
   "id": "e5d970c2",
   "metadata": {},
   "outputs": [],
   "source": [
    "def emptyBarPlot(bins, counts):\n",
    "    bins2 = np.append(bins,bins)\n",
    "    bins2[0:len(bins2):2] = bins\n",
    "    bins2[1:(len(bins2)-1):2] = bins[1:]\n",
    "\n",
    "    counts2 = np.append(counts,counts)\n",
    "    counts2[0:len(counts2):2] = counts\n",
    "    counts2[1:len(counts2):2] = counts\n",
    "    plt.plot(bins2, counts2)"
   ]
  },
  {
   "cell_type": "code",
   "execution_count": 9,
   "id": "79be705b",
   "metadata": {},
   "outputs": [],
   "source": [
    "def countSignalEvents(data, signal = [0, 0, 1, 1, 1, 1, 1, 1, 1, 1], entries = [n for n in range(10)], minCal = 0):\n",
    "    signal = np.array(signal)\n",
    "    entries = np.array(entries)\n",
    "\n",
    "    matches = [event for event in data if (event['scintillator'][entries] == signal).all()]\n",
    "    count = 0\n",
    "    for event in matches:\n",
    "        if event['calorimeter'] > minCal:\n",
    "            count += event['weight']\n",
    "    return count"
   ]
  },
  {
   "cell_type": "code",
   "execution_count": 10,
   "id": "b47a9f34",
   "metadata": {},
   "outputs": [],
   "source": [
    "def binSignal(data, bins = None, signal = [0, 0, 1, 1, 1, 1, 1, 1, 1, 1], entries = [n for n in range(10)]):\n",
    "    signal = np.array(signal)\n",
    "    entries = np.array(entries)\n",
    "\n",
    "    matches = [event for event in data if (event['scintillator'][entries] == signal).all()]\n",
    "    if bins == None:\n",
    "        deposits = [event['calorimeter'] for event in matches]\n",
    "        minDep = min(deposits) - 1\n",
    "        maxDep = max(deposits) + 1\n",
    "        low = np.log10(max(10**-2, minDep)) # Sets 0.01 as the smallest bin\n",
    "        high = max(3, np.log10(maxDep)) # Sets 1000 as the largest bin\n",
    "        bins = np.logspace(low, high, 100)\n",
    "        \n",
    "    primEnergies = sorted(set([event['primaryEnergy'] for event in matches]))\n",
    "\n",
    "    binned = {'bins': bins}\n",
    "\n",
    "    for energy in primEnergies:\n",
    "        subdata = [(event['calorimeter'], event['weight']) for event in matches if event['primaryEnergy'] == energy]\n",
    "        cal = [x[0] for x in subdata]\n",
    "        weights = [x[1] for x in subdata]\n",
    "        ids = np.searchsorted(bins,cal)\n",
    "        wids = zip(ids,weights)\n",
    "\n",
    "        counts = np.zeros(np.size(bins))\n",
    "        for wid in wids:\n",
    "            try:\n",
    "                counts[wid[0]] += wid[1]\n",
    "            except IndexError:\n",
    "                print(wid[0])\n",
    "                print(energy)\n",
    "                break\n",
    "\n",
    "        binned[energy] = counts\n",
    "        \n",
    "    return binned"
   ]
  },
  {
   "cell_type": "code",
   "execution_count": 11,
   "id": "ce602dc6",
   "metadata": {},
   "outputs": [],
   "source": [
    "def plotBinnedData(data):\n",
    "    bins = data['bins']\n",
    "    energies = [e for e in data.keys() if isinstance(e,float)]\n",
    "    \n",
    "    curCounts = np.zeros(np.size(bins))\n",
    "    for energy in energies:\n",
    "        counts = data[energy]\n",
    "        curCounts += counts\n",
    "        \n",
    "        emptyBarPlot(bins,curCounts)"
   ]
  },
  {
   "cell_type": "code",
   "execution_count": 16,
   "id": "8970bbef",
   "metadata": {},
   "outputs": [
    {
     "name": "stdout",
     "output_type": "stream",
     "text": [
      "CPU times: user 4.96 s, sys: 7.89 ms, total: 4.97 s\n",
      "Wall time: 4.97 s\n"
     ]
    },
    {
     "data": {
      "text/plain": [
       "Text(0, 0.5, 'Muon Expected Counts for 1 fb^-1')"
      ]
     },
     "execution_count": 16,
     "metadata": {},
     "output_type": "execute_result"
    },
    {
     "data": {
      "image/png": "[encoded data removed]",
      "text/plain": [
       "<Figure size 432x288 with 1 Axes>"
      ]
     },
     "metadata": {
      "needs_background": "light"
     },
     "output_type": "display_data"
    }
   ],
   "source": [
    "%%time\n",
    "data1 = binSignal(muon_data)\n",
    "\n",
    "plotBinnedData(data1)\n",
    "plt.xscale('log')\n",
    "plt.yscale('log')\n",
    "plt.xlim([10**-1, 10**3])\n",
    "plt.ylim([10**-1, 10**3])\n",
    "energies = [e for e in data1.keys() if isinstance(e,float)]\n",
    "plt.legend([str(np.round(energy,-2)/1000) for energy in energies], ncol=2);\n",
    "plt.xlabel('Calorimeter Energy (GeV)');\n",
    "plt.ylabel('Muon Expected Counts for 1 fb^-1');"
   ]
  },
  {
   "cell_type": "code",
   "execution_count": 13,
   "id": "85ad4242",
   "metadata": {},
   "outputs": [
    {
     "name": "stdout",
     "output_type": "stream",
     "text": [
      "CPU times: user 922 ms, sys: 102 µs, total: 922 ms\n",
      "Wall time: 922 ms\n"
     ]
    },
    {
     "data": {
      "text/plain": [
       "Text(0, 0.5, 'Muon Neutrino Expected Counts for 1 fb^-1')"
      ]
     },
     "execution_count": 13,
     "metadata": {},
     "output_type": "execute_result"
    },
    {
     "data": {
      "image/png": "[encoded data removed]",
      "text/plain": [
       "<Figure size 432x288 with 1 Axes>"
      ]
     },
     "metadata": {
      "needs_background": "light"
     },
     "output_type": "display_data"
    }
   ],
   "source": [
    "%%time\n",
    "data2 = binSignal(muon_neutrino_data)\n",
    "\n",
    "plotBinnedData(data2)\n",
    "plt.xscale('log')\n",
    "plt.yscale('log')\n",
    "plt.xlim([10**-1, 10**3])\n",
    "plt.ylim([10**-2, 10**0])\n",
    "energies = [e for e in data2.keys() if isinstance(e,float)]\n",
    "# plt.legend([str(int(np.round(energy))) for energy in energies], ncol=2);\n",
    "plt.xlabel('Calorimeter Energy (GeV)');\n",
    "plt.ylabel('Muon Neutrino Expected Counts for 1 fb^-1');"
   ]
  },
  {
   "cell_type": "code",
   "execution_count": 15,
   "id": "0d450243",
   "metadata": {},
   "outputs": [
    {
     "name": "stdout",
     "output_type": "stream",
     "text": [
      "For 5 fb^-1 and a calorimeter cut = 1 GeV: Muon: 2976.4 | Muon Neutrino: 12.9\n",
      "For 5 fb^-1 and a calorimeter cut = 5 GeV: Muon: 177.6 | Muon Neutrino: 7.0\n",
      "For 5 fb^-1 and a calorimeter cut = 10 GeV: Muon: 26.0 | Muon Neutrino: 5.1\n",
      "For 5 fb^-1 and a calorimeter cut = 15 GeV: Muon: 6.7 | Muon Neutrino: 4.1\n",
      "For 5 fb^-1 and a calorimeter cut = 20 GeV: Muon: 0 | Muon Neutrino: 3.4\n"
     ]
    }
   ],
   "source": [
    "LHCrun = 5 # in fb^-1\n",
    "for minCal in [1, 5, 10, 15, 20]:\n",
    "    print(f'For {LHCrun} fb^-1 and a calorimeter cut = {minCal} GeV:',\n",
    "      'Muon:', np.round(countSignalEvents(muon_data, minCal = minCal)*LHCrun,1),\n",
    "      '| Muon Neutrino:', np.round(countSignalEvents(muon_neutrino_data, minCal = minCal)*LHCrun,1))"
   ]
  },
  {
   "cell_type": "code",
   "execution_count": null,
   "id": "4101242f",
   "metadata": {},
   "outputs": [],
   "source": []
  }
 ],
 "metadata": {
  "kernelspec": {
   "display_name": "Python 3",
   "language": "python",
   "name": "python3"
  },
  "language_info": {
   "codemirror_mode": {
    "name": "ipython",
    "version": 3
   },
   "file_extension": ".py",
   "mimetype": "text/x-python",
   "name": "python",
   "nbconvert_exporter": "python",
   "pygments_lexer": "ipython3",
   "version": "3.8.10"
  }
 },
 "nbformat": 4,
 "nbformat_minor": 5
}
